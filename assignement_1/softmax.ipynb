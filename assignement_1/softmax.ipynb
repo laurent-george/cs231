{
 "cells": [
  {
   "cell_type": "markdown",
   "metadata": {},
   "source": [
    "# Softmax exercise\n",
    "\n",
    "*Complete and hand in this completed worksheet (including its outputs and any supporting code outside of the worksheet) with your assignment submission. For more details see the [assignments page](http://vision.stanford.edu/teaching/cs231n/assignments.html) on the course website.*\n",
    "\n",
    "This exercise is analogous to the SVM exercise. You will:\n",
    "\n",
    "- implement a fully-vectorized **loss function** for the Softmax classifier\n",
    "- implement the fully-vectorized expression for its **analytic gradient**\n",
    "- **check your implementation** with numerical gradient\n",
    "- use a validation set to **tune the learning rate and regularization** strength\n",
    "- **optimize** the loss function with **SGD**\n",
    "- **visualize** the final learned weights\n"
   ]
  },
  {
   "cell_type": "code",
   "execution_count": 1,
   "metadata": {},
   "outputs": [],
   "source": [
    "import random\n",
    "import numpy as np\n",
    "from cs231n.data_utils import load_CIFAR10\n",
    "import matplotlib.pyplot as plt\n",
    "\n",
    "from __future__ import print_function\n",
    "\n",
    "%matplotlib inline\n",
    "plt.rcParams['figure.figsize'] = (10.0, 8.0) # set default size of plots\n",
    "plt.rcParams['image.interpolation'] = 'nearest'\n",
    "plt.rcParams['image.cmap'] = 'gray'\n",
    "\n",
    "# for auto-reloading extenrnal modules\n",
    "# see http://stackoverflow.com/questions/1907993/autoreload-of-modules-in-ipython\n",
    "%load_ext autoreload\n",
    "%autoreload 2"
   ]
  },
  {
   "cell_type": "code",
   "execution_count": 2,
   "metadata": {},
   "outputs": [
    {
     "name": "stdout",
     "output_type": "stream",
     "text": [
      "Train data shape:  (49000, 3073)\n",
      "Train labels shape:  (49000,)\n",
      "Validation data shape:  (1000, 3073)\n",
      "Validation labels shape:  (1000,)\n",
      "Test data shape:  (1000, 3073)\n",
      "Test labels shape:  (1000,)\n",
      "dev data shape:  (500, 3073)\n",
      "dev labels shape:  (500,)\n"
     ]
    }
   ],
   "source": [
    "def get_CIFAR10_data(num_training=49000, num_validation=1000, num_test=1000, num_dev=500):\n",
    "    \"\"\"\n",
    "    Load the CIFAR-10 dataset from disk and perform preprocessing to prepare\n",
    "    it for the linear classifier. These are the same steps as we used for the\n",
    "    SVM, but condensed to a single function.  \n",
    "    \"\"\"\n",
    "    # Load the raw CIFAR-10 data\n",
    "    cifar10_dir = 'cs231n/datasets/cifar-10-batches-py'\n",
    "    X_train, y_train, X_test, y_test = load_CIFAR10(cifar10_dir)\n",
    "    \n",
    "    # subsample the data\n",
    "    mask = list(range(num_training, num_training + num_validation))\n",
    "    X_val = X_train[mask]\n",
    "    y_val = y_train[mask]\n",
    "    mask = list(range(num_training))\n",
    "    X_train = X_train[mask]\n",
    "    y_train = y_train[mask]\n",
    "    mask = list(range(num_test))\n",
    "    X_test = X_test[mask]\n",
    "    y_test = y_test[mask]\n",
    "    mask = np.random.choice(num_training, num_dev, replace=False)\n",
    "    X_dev = X_train[mask]\n",
    "    y_dev = y_train[mask]\n",
    "    \n",
    "    # Preprocessing: reshape the image data into rows\n",
    "    X_train = np.reshape(X_train, (X_train.shape[0], -1))\n",
    "    X_val = np.reshape(X_val, (X_val.shape[0], -1))\n",
    "    X_test = np.reshape(X_test, (X_test.shape[0], -1))\n",
    "    X_dev = np.reshape(X_dev, (X_dev.shape[0], -1))\n",
    "    \n",
    "    # Normalize the data: subtract the mean image\n",
    "    mean_image = np.mean(X_train, axis = 0)\n",
    "    X_train -= mean_image\n",
    "    X_val -= mean_image\n",
    "    X_test -= mean_image\n",
    "    X_dev -= mean_image\n",
    "    \n",
    "    # add bias dimension and transform into columns\n",
    "    X_train = np.hstack([X_train, np.ones((X_train.shape[0], 1))])\n",
    "    X_val = np.hstack([X_val, np.ones((X_val.shape[0], 1))])\n",
    "    X_test = np.hstack([X_test, np.ones((X_test.shape[0], 1))])\n",
    "    X_dev = np.hstack([X_dev, np.ones((X_dev.shape[0], 1))])\n",
    "    \n",
    "    return X_train, y_train, X_val, y_val, X_test, y_test, X_dev, y_dev\n",
    "\n",
    "\n",
    "# Invoke the above function to get our data.\n",
    "X_train, y_train, X_val, y_val, X_test, y_test, X_dev, y_dev = get_CIFAR10_data()\n",
    "print('Train data shape: ', X_train.shape)\n",
    "print('Train labels shape: ', y_train.shape)\n",
    "print('Validation data shape: ', X_val.shape)\n",
    "print('Validation labels shape: ', y_val.shape)\n",
    "print('Test data shape: ', X_test.shape)\n",
    "print('Test labels shape: ', y_test.shape)\n",
    "print('dev data shape: ', X_dev.shape)\n",
    "print('dev labels shape: ', y_dev.shape)"
   ]
  },
  {
   "cell_type": "markdown",
   "metadata": {},
   "source": [
    "## Softmax Classifier\n",
    "\n",
    "Your code for this section will all be written inside **cs231n/classifiers/softmax.py**. \n"
   ]
  },
  {
   "cell_type": "code",
   "execution_count": 3,
   "metadata": {},
   "outputs": [
    {
     "name": "stdout",
     "output_type": "stream",
     "text": [
      "loss: 2.358733\n",
      "sanity check: 2.302585\n"
     ]
    }
   ],
   "source": [
    "# First implement the naive softmax loss function with nested loops.\n",
    "# Open the file cs231n/classifiers/softmax.py and implement the\n",
    "# softmax_loss_naive function.\n",
    "\n",
    "from cs231n.classifiers.softmax import softmax_loss_naive\n",
    "import time\n",
    "\n",
    "# Generate a random softmax weight matrix and use it to compute the loss.\n",
    "W = np.random.randn(3073, 10) * 0.0001\n",
    "loss, grad = softmax_loss_naive(W, X_dev, y_dev, 0.0)\n",
    "\n",
    "# As a rough sanity check, our loss should be something close to -log(0.1).\n",
    "print('loss: %f' % loss)\n",
    "print('sanity check: %f' % (-np.log(0.1)))"
   ]
  },
  {
   "cell_type": "markdown",
   "metadata": {},
   "source": [
    "## Inline Question 1:\n",
    "Why do we expect our loss to be close to -log(0.1)? Explain briefly.**\n",
    "\n",
    "**Your answer:** *Fill this in*\n",
    "\n",
    "\n",
    "We have a random weight, which means that the score obtain for each class should be uniform, thus for each class:\n",
    "\n",
    "p_i = val / 10 val = 1/10\n",
    "\n",
    "thus Li = -np.log(0.1)\n",
    "\n",
    "\n"
   ]
  },
  {
   "cell_type": "code",
   "execution_count": 4,
   "metadata": {},
   "outputs": [
    {
     "name": "stdout",
     "output_type": "stream",
     "text": [
      "numerical: 0.788642 analytic: 0.788642, relative error: 6.429363e-08\n",
      "numerical: 1.230960 analytic: 1.230960, relative error: 1.922975e-08\n",
      "numerical: -0.095244 analytic: -0.095244, relative error: 6.714224e-07\n",
      "numerical: 0.180500 analytic: 0.180500, relative error: 4.850091e-07\n",
      "numerical: 4.268593 analytic: 4.268592, relative error: 3.398463e-08\n",
      "numerical: 0.343886 analytic: 0.343886, relative error: 7.092283e-10\n",
      "numerical: -3.156321 analytic: -3.156321, relative error: 9.775333e-09\n",
      "numerical: -0.803708 analytic: -0.803708, relative error: 1.981964e-09\n",
      "numerical: -0.823409 analytic: -0.823409, relative error: 1.483149e-08\n",
      "numerical: -1.112472 analytic: -1.112472, relative error: 1.587444e-08\n",
      "numerical: 0.350282 analytic: 0.353842, relative error: 5.055773e-03\n",
      "numerical: -2.036172 analytic: -2.028575, relative error: 1.868888e-03\n",
      "numerical: 2.104312 analytic: 2.093740, relative error: 2.518426e-03\n",
      "numerical: -2.333907 analytic: -2.329059, relative error: 1.039556e-03\n",
      "numerical: -4.883496 analytic: -4.886771, relative error: 3.352510e-04\n",
      "numerical: -2.342522 analytic: -2.341420, relative error: 2.354233e-04\n",
      "numerical: 0.186450 analytic: 0.183664, relative error: 7.527893e-03\n",
      "numerical: -1.178560 analytic: -1.179208, relative error: 2.746569e-04\n",
      "numerical: 2.945185 analytic: 2.942498, relative error: 4.563345e-04\n",
      "numerical: 5.713695 analytic: 5.713140, relative error: 4.854392e-05\n",
      "2.3739053376\n"
     ]
    }
   ],
   "source": [
    "# Complete the implementation of softmax_loss_naive and implement a (naive)\n",
    "# version of the gradient that uses nested loops.\n",
    "loss, grad = softmax_loss_naive(W, X_dev, y_dev, 0.0)\n",
    "\n",
    "# As we did for the SVM, use numeric gradient checking as a debugging tool.\n",
    "# The numeric gradient should be close to the analytic gradient.\n",
    "from cs231n.gradient_check import grad_check_sparse\n",
    "f = lambda w: softmax_loss_naive(w, X_dev, y_dev, 0.0)[0]\n",
    "grad_numerical = grad_check_sparse(f, W, grad, 10)\n",
    "\n",
    "# similar to SVM case, do another gradient check with regularization\n",
    "loss, grad = softmax_loss_naive(W, X_dev, y_dev, 5e1)\n",
    "f = lambda w: softmax_loss_naive(w, X_dev, y_dev, 5e1)[0]\n",
    "grad_numerical = grad_check_sparse(f, W, grad, 10)\n",
    "\n",
    "print(loss)"
   ]
  },
  {
   "cell_type": "code",
   "execution_count": 5,
   "metadata": {},
   "outputs": [
    {
     "name": "stdout",
     "output_type": "stream",
     "text": [
      "naive loss: 2.358733e+00 computed in 0.132060s\n",
      "vectorized loss: 2.358733e+00 computed in 0.005924s\n",
      "Loss difference: 0.000000\n",
      "Gradient difference: 0.000000\n"
     ]
    }
   ],
   "source": [
    "# Now that we have a naive implementation of the softmax loss function and its gradient,\n",
    "# implement a vectorized version in softmax_loss_vectorized.\n",
    "# The two versions should compute the same results, but the vectorized version should be\n",
    "# much faster.\n",
    "tic = time.time()\n",
    "loss_naive, grad_naive = softmax_loss_naive(W, X_dev, y_dev, 0.000005)\n",
    "toc = time.time()\n",
    "print('naive loss: %e computed in %fs' % (loss_naive, toc - tic))\n",
    "\n",
    "from cs231n.classifiers.softmax import softmax_loss_vectorized\n",
    "tic = time.time()\n",
    "loss_vectorized, grad_vectorized= softmax_loss_vectorized(W, X_dev, y_dev, 0.000005)\n",
    "toc = time.time()\n",
    "print('vectorized loss: %e computed in %fs' % (loss_vectorized, toc - tic))\n",
    "\n",
    "# As we did for the SVM, we use the Frobenius norm to compare the two versions\n",
    "# of the gradient.\n",
    "grad_difference = np.linalg.norm(grad_naive - grad_vectorized, ord='fro')\n",
    "print('Loss difference: %f' % np.abs(loss_naive - loss_vectorized))\n",
    "print('Gradient difference: %f' % grad_difference)"
   ]
  },
  {
   "cell_type": "code",
   "execution_count": 12,
   "metadata": {
    "scrolled": false
   },
   "outputs": [
    {
     "name": "stdout",
     "output_type": "stream",
     "text": [
      "iteration 0 / 3000: loss 766.201172\n",
      "iteration 100 / 3000: loss 463.053717\n",
      "iteration 200 / 3000: loss 281.007511\n",
      "iteration 300 / 3000: loss 170.591338\n",
      "iteration 400 / 3000: loss 104.077195\n",
      "iteration 500 / 3000: loss 63.746410\n",
      "iteration 600 / 3000: loss 39.378378\n",
      "iteration 700 / 3000: loss 24.647421\n",
      "iteration 800 / 3000: loss 15.840180\n",
      "iteration 900 / 3000: loss 10.384459\n",
      "iteration 1000 / 3000: loss 7.070026\n",
      "iteration 1100 / 3000: loss 5.218581\n",
      "iteration 1200 / 3000: loss 3.925377\n",
      "iteration 1300 / 3000: loss 3.259074\n",
      "iteration 1400 / 3000: loss 2.745794\n",
      "iteration 1500 / 3000: loss 2.473902\n",
      "iteration 1600 / 3000: loss 2.410179\n",
      "iteration 1700 / 3000: loss 2.318055\n",
      "iteration 1800 / 3000: loss 2.173461\n",
      "iteration 1900 / 3000: loss 2.100816\n",
      "iteration 2000 / 3000: loss 2.127565\n",
      "iteration 2100 / 3000: loss 2.055346\n",
      "iteration 2200 / 3000: loss 2.061942\n",
      "iteration 2300 / 3000: loss 2.165385\n",
      "iteration 2400 / 3000: loss 2.094965\n",
      "iteration 2500 / 3000: loss 2.075644\n",
      "iteration 2600 / 3000: loss 2.157854\n",
      "iteration 2700 / 3000: loss 2.072663\n",
      "iteration 2800 / 3000: loss 2.120201\n",
      "iteration 2900 / 3000: loss 2.131985\n",
      "iteration 0 / 3000: loss 1539.961231\n",
      "iteration 100 / 3000: loss 564.660446\n",
      "iteration 200 / 3000: loss 208.149471\n",
      "iteration 300 / 3000: loss 77.540711\n",
      "iteration 400 / 3000: loss 29.771549\n",
      "iteration 500 / 3000: loss 12.279306\n",
      "iteration 600 / 3000: loss 5.841422\n",
      "iteration 700 / 3000: loss 3.490310\n",
      "iteration 800 / 3000: loss 2.617206\n",
      "iteration 900 / 3000: loss 2.393724\n",
      "iteration 1000 / 3000: loss 2.235163\n",
      "iteration 1100 / 3000: loss 2.160979\n",
      "iteration 1200 / 3000: loss 2.222004\n",
      "iteration 1300 / 3000: loss 2.124388\n",
      "iteration 1400 / 3000: loss 2.194284\n",
      "iteration 1500 / 3000: loss 2.218121\n",
      "iteration 1600 / 3000: loss 2.236311\n",
      "iteration 1700 / 3000: loss 2.133771\n",
      "iteration 1800 / 3000: loss 2.183161\n",
      "iteration 1900 / 3000: loss 2.177279\n",
      "iteration 2000 / 3000: loss 2.125765\n",
      "iteration 2100 / 3000: loss 2.189168\n",
      "iteration 2200 / 3000: loss 2.169427\n",
      "iteration 2300 / 3000: loss 2.230490\n",
      "iteration 2400 / 3000: loss 2.218680\n",
      "iteration 2500 / 3000: loss 2.193450\n",
      "iteration 2600 / 3000: loss 2.169768\n",
      "iteration 2700 / 3000: loss 2.196630\n",
      "iteration 2800 / 3000: loss 2.146296\n",
      "iteration 2900 / 3000: loss 2.185069\n",
      "iteration 0 / 3000: loss 766.707557\n",
      "iteration 100 / 3000: loss 595.780619\n",
      "iteration 200 / 3000: loss 463.509577\n",
      "iteration 300 / 3000: loss 360.678655\n",
      "iteration 400 / 3000: loss 281.132726\n",
      "iteration 500 / 3000: loss 219.080407\n",
      "iteration 600 / 3000: loss 170.989861\n",
      "iteration 700 / 3000: loss 133.283026\n",
      "iteration 800 / 3000: loss 104.304731\n",
      "iteration 900 / 3000: loss 81.608660\n",
      "iteration 1000 / 3000: loss 63.862827\n",
      "iteration 1100 / 3000: loss 50.219775\n",
      "iteration 1200 / 3000: loss 39.581388\n",
      "iteration 1300 / 3000: loss 31.254494\n",
      "iteration 1400 / 3000: loss 24.805820\n",
      "iteration 1500 / 3000: loss 19.707444\n",
      "iteration 1600 / 3000: loss 15.820059\n",
      "iteration 1700 / 3000: loss 12.751002\n",
      "iteration 1800 / 3000: loss 10.425334\n",
      "iteration 1900 / 3000: loss 8.653631\n",
      "iteration 2000 / 3000: loss 7.162607\n",
      "iteration 2100 / 3000: loss 5.965546\n",
      "iteration 2200 / 3000: loss 5.139576\n",
      "iteration 2300 / 3000: loss 4.442916\n",
      "iteration 2400 / 3000: loss 3.972318\n",
      "iteration 2500 / 3000: loss 3.526596\n",
      "iteration 2600 / 3000: loss 3.222103\n",
      "iteration 2700 / 3000: loss 2.889870\n",
      "iteration 2800 / 3000: loss 2.803996\n",
      "iteration 2900 / 3000: loss 2.661355\n",
      "iteration 0 / 3000: loss 1552.157134\n",
      "iteration 100 / 3000: loss 940.003260\n",
      "iteration 200 / 3000: loss 569.800161\n",
      "iteration 300 / 3000: loss 345.683708\n",
      "iteration 400 / 3000: loss 210.123385\n",
      "iteration 500 / 3000: loss 128.091087\n",
      "iteration 600 / 3000: loss 78.466508\n",
      "iteration 700 / 3000: loss 48.434946\n",
      "iteration 800 / 3000: loss 30.186156\n",
      "iteration 900 / 3000: loss 19.162721\n",
      "iteration 1000 / 3000: loss 12.421700\n",
      "iteration 1100 / 3000: loss 8.391474\n",
      "iteration 1200 / 3000: loss 5.918756\n",
      "iteration 1300 / 3000: loss 4.504025\n",
      "iteration 1400 / 3000: loss 3.574431\n",
      "iteration 1500 / 3000: loss 2.964519\n",
      "iteration 1600 / 3000: loss 2.715616\n",
      "iteration 1700 / 3000: loss 2.442382\n",
      "iteration 1800 / 3000: loss 2.383928\n",
      "iteration 1900 / 3000: loss 2.284113\n",
      "iteration 2000 / 3000: loss 2.240326\n",
      "iteration 2100 / 3000: loss 2.213702\n",
      "iteration 2200 / 3000: loss 2.197138\n",
      "iteration 2300 / 3000: loss 2.196086\n",
      "iteration 2400 / 3000: loss 2.168934\n",
      "iteration 2500 / 3000: loss 2.197159\n",
      "iteration 2600 / 3000: loss 2.197616\n",
      "iteration 2700 / 3000: loss 2.155527\n",
      "iteration 2800 / 3000: loss 2.182975\n",
      "iteration 2900 / 3000: loss 2.129005\n",
      "lr 5.000000e-08 reg 2.500000e+04 train accuracy: 0.352245 val accuracy: 0.370000\n",
      "lr 5.000000e-08 reg 5.000000e+04 train accuracy: 0.328714 val accuracy: 0.339000\n",
      "lr 1.000000e-07 reg 2.500000e+04 train accuracy: 0.350061 val accuracy: 0.370000\n",
      "lr 1.000000e-07 reg 5.000000e+04 train accuracy: 0.327224 val accuracy: 0.341000\n",
      "best validation accuracy achieved during cross-validation: 0.370000\n"
     ]
    }
   ],
   "source": [
    "# Use the validation set to tune hyperparameters (regularization strength and\n",
    "# learning rate). You should experiment with different ranges for the learning\n",
    "# rates and regularization strengths; if you are careful you should be able to\n",
    "# get a classification accuracy of over 0.35 on the validation set.\n",
    "from cs231n.classifiers import Softmax\n",
    "results = {}\n",
    "best_val = -1\n",
    "best_softmax = None\n",
    "#learning_rates = [1e-7, 5e-7]\n",
    "learning_rates = [1e-7, 5e-8]\n",
    "regularization_strengths = [2.5e4, 5e4]\n",
    "\n",
    "################################################################################\n",
    "# TODO:                                                                        #\n",
    "# Use the validation set to set the learning rate and regularization strength. #\n",
    "# This should be identical to the validation that you did for the SVM; save    #\n",
    "# the best trained softmax classifer in best_softmax.                          #\n",
    "################################################################################\n",
    "for learning_rate in learning_rates:\n",
    "    for regularization_strength in regularization_strengths:\n",
    "        clf = Softmax()\n",
    "        loss_hist = clf.train(X_train, y_train, learning_rate=learning_rate, reg=regularization_strength, num_iters=3000, verbose=True)\n",
    "        y_train_pred = clf.predict(X_train)\n",
    "        training_accuracy = np.mean(y_train == y_train_pred)\n",
    "        y_val_pred = clf.predict(X_val)\n",
    "        validation_accuracy = np.mean(y_val == y_val_pred)\n",
    "        \n",
    "        results[(learning_rate, regularization_strength)] = (training_accuracy, validation_accuracy)\n",
    "        if validation_accuracy > best_val:\n",
    "            best_val = validation_accuracy\n",
    "            best_softmax = clf\n",
    "################################################################################\n",
    "#                              END OF YOUR CODE                                #\n",
    "################################################################################\n",
    "    \n",
    "# Print out results.\n",
    "for lr, reg in sorted(results):\n",
    "    train_accuracy, val_accuracy = results[(lr, reg)]\n",
    "    print('lr %e reg %e train accuracy: %f val accuracy: %f' % (\n",
    "                lr, reg, train_accuracy, val_accuracy))\n",
    "    \n",
    "print('best validation accuracy achieved during cross-validation: %f' % best_val)"
   ]
  },
  {
   "cell_type": "code",
   "execution_count": 13,
   "metadata": {},
   "outputs": [
    {
     "name": "stdout",
     "output_type": "stream",
     "text": [
      "softmax on raw pixels final test set accuracy: 0.357000\n"
     ]
    }
   ],
   "source": [
    "# evaluate on test set\n",
    "# Evaluate the best softmax on test set\n",
    "y_test_pred = best_softmax.predict(X_test)\n",
    "test_accuracy = np.mean(y_test == y_test_pred)\n",
    "print('softmax on raw pixels final test set accuracy: %f' % (test_accuracy, ))"
   ]
  },
  {
   "cell_type": "code",
   "execution_count": 14,
   "metadata": {},
   "outputs": [
    {
     "data": {
      "image/png": "[encoded data removed]",
      "text/plain": [
       "<matplotlib.figure.Figure at 0x7f01627a6f98>"
      ]
     },
     "metadata": {},
     "output_type": "display_data"
    }
   ],
   "source": [
    "# Visualize the learned weights for each class\n",
    "w = best_softmax.W[:-1,:] # strip out the bias\n",
    "w = w.reshape(32, 32, 3, 10)\n",
    "\n",
    "w_min, w_max = np.min(w), np.max(w)\n",
    "\n",
    "classes = ['plane', 'car', 'bird', 'cat', 'deer', 'dog', 'frog', 'horse', 'ship', 'truck']\n",
    "for i in range(10):\n",
    "    plt.subplot(2, 5, i + 1)\n",
    "    \n",
    "    # Rescale the weights to be between 0 and 255\n",
    "    wimg = 255.0 * (w[:, :, :, i].squeeze() - w_min) / (w_max - w_min)\n",
    "    plt.imshow(wimg.astype('uint8'))\n",
    "    plt.axis('off')\n",
    "    plt.title(classes[i])"
   ]
  },
  {
   "cell_type": "code",
   "execution_count": 15,
   "metadata": {
    "collapsed": true
   },
   "outputs": [],
   "source": [
    "# interesting on the horse it seems that we have a symetric horse (with two heads.. )\n",
    "# the cars also seems to be a car (which is really nice)\n",
    "\n",
    "# The "
   ]
  }
 ],
 "metadata": {
  "kernelspec": {
   "display_name": "Python 3",
   "language": "python",
   "name": "python3"
  },
  "language_info": {
   "codemirror_mode": {
    "name": "ipython",
    "version": 3
   },
   "file_extension": ".py",
   "mimetype": "text/x-python",
   "name": "python",
   "nbconvert_exporter": "python",
   "pygments_lexer": "ipython3",
   "version": "3.6.1"
  }
 },
 "nbformat": 4,
 "nbformat_minor": 1
}
